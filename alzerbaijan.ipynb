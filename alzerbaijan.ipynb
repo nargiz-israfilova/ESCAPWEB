{
 "cells": [
  {
   "cell_type": "code",
   "execution_count": 1,
   "metadata": {},
   "outputs": [
    {
     "name": "stdout",
     "output_type": "stream",
     "text": [
      "Requirement already satisfied: tqdm in c:\\users\\hp\\appdata\\local\\programs\\python\\python310\\lib\\site-packages (4.66.5)\n",
      "Requirement already satisfied: colorama in c:\\users\\hp\\appdata\\roaming\\python\\python310\\site-packages (from tqdm) (0.4.6)\n",
      "Requirement already satisfied: openpyxl in c:\\users\\hp\\appdata\\local\\programs\\python\\python310\\lib\\site-packages (3.1.5)\n",
      "Requirement already satisfied: et-xmlfile in c:\\users\\hp\\appdata\\local\\programs\\python\\python310\\lib\\site-packages (from openpyxl) (1.1.0)\n"
     ]
    }
   ],
   "source": [
    "# !pip install tqdm\n",
    "# !pip install openpyxl"
   ]
  },
  {
   "cell_type": "code",
   "execution_count": 2,
   "metadata": {},
   "outputs": [],
   "source": [
    "import pandas as pd\n",
    "import requests\n",
    "import time\n",
    "from bs4 import BeautifulSoup\n",
    "from datetime import date\n",
    "from tqdm import tqdm"
   ]
  },
  {
   "cell_type": "code",
   "execution_count": 3,
   "metadata": {},
   "outputs": [],
   "source": [
    "#go to https://www.whatismybrowser.com/\n",
    "headers = {\n",
    "'User-Agent':'ESCAP Webscraping Capacity Building 1.0',\n",
    "    'email': 'nargiz.jafarova@stat.gov.az',\n",
    "    'Accept-Language': 'en-US, en;q=0.5'}\n",
    "s = requests.Session()\n",
    "# r = requests.get(\"https://www.bakuelectronics.az/catalog/\", headers=headers)\n",
    "# response = BeautifulSoup(r.text, features='html.parser')"
   ]
  },
  {
   "cell_type": "code",
   "execution_count": 4,
   "metadata": {},
   "outputs": [],
   "source": [
    "with s.get(\"https://www.bakuelectronics.az/catalog/\", headers=headers) as r:\n",
    "    response = BeautifulSoup(r.text, features='html.parser')"
   ]
  },
  {
   "cell_type": "code",
   "execution_count": 7,
   "metadata": {},
   "outputs": [],
   "source": [
    "# categories\n",
    "categories_list = [\n",
    "    item.find(\"a\").get(\"href\")\n",
    "    for item in\n",
    "    response.find(name=\"ul\", attrs={\"class\":\"nav-list js-main-menu-lvl-1\"}).find_all(\"div\", {\"class\": \"main-menu__dropdown_second\"})\n",
    "]"
   ]
  },
  {
   "cell_type": "code",
   "execution_count": 8,
   "metadata": {},
   "outputs": [
    {
     "data": {
      "text/plain": [
       "['https://www.bakuelectronics.az/catalog/telefonlar-qadcetler/smartfonlar-mobil-telefonlar/',\n",
       " 'https://www.bakuelectronics.az/catalog/tv-audio-video/televizorlar/',\n",
       " 'https://www.bakuelectronics.az/catalog/noutbuklar-komputerler/noutbuklar/',\n",
       " 'https://www.bakuelectronics.az/catalog/iqlim-texnikasi/kombi/',\n",
       " 'https://www.bakuelectronics.az/catalog/boyuk-meiset-texnikasi/soyuducular/',\n",
       " 'https://www.bakuelectronics.az/catalog/kicik-meiset-texnikasi/metbex-komekcileri/',\n",
       " 'https://www.bakuelectronics.az/catalog/gozellik-saglamliq/fen-daraqli-fenler/',\n",
       " 'https://www.bakuelectronics.az/catalog/oyun-konsollari-oyunlar/oyun-konsollari/',\n",
       " 'https://www.bakuelectronics.az/catalog/mebel/qonaq-otagi-ucun-mebel/',\n",
       " 'https://www.bakuelectronics.az/catalog/qab-qacaq-tava-qazan/qab-qacaq/',\n",
       " 'https://www.bakuelectronics.az/catalog/avto-ve-moto-mehsullari/avtomobil-yaglari-ve-mayeler/',\n",
       " 'https://www.bakuelectronics.az/catalog/idman-ve-hobbi/velosipedler/',\n",
       " 'https://www.bakuelectronics.az/catalog/ev-bag/isiqlandirilma/',\n",
       " 'https://www.bakuelectronics.az/catalog/usaq-alemi/usaq-arabalari/']"
      ]
     },
     "execution_count": 8,
     "metadata": {},
     "output_type": "execute_result"
    }
   ],
   "source": [
    "categories_list"
   ]
  },
  {
   "cell_type": "code",
   "execution_count": 9,
   "metadata": {},
   "outputs": [],
   "source": [
    "categories = [\n",
    "    cat.rsplit(\"/\", 2)[-3]\n",
    "    for cat in categories_list\n",
    "]"
   ]
  },
  {
   "cell_type": "code",
   "execution_count": 10,
   "metadata": {},
   "outputs": [
    {
     "data": {
      "text/plain": [
       "['https://www.bakuelectronics.az/catalog/telefonlar-qadcetler',\n",
       " 'https://www.bakuelectronics.az/catalog/tv-audio-video',\n",
       " 'https://www.bakuelectronics.az/catalog/noutbuklar-komputerler',\n",
       " 'https://www.bakuelectronics.az/catalog/iqlim-texnikasi',\n",
       " 'https://www.bakuelectronics.az/catalog/boyuk-meiset-texnikasi',\n",
       " 'https://www.bakuelectronics.az/catalog/kicik-meiset-texnikasi',\n",
       " 'https://www.bakuelectronics.az/catalog/gozellik-saglamliq',\n",
       " 'https://www.bakuelectronics.az/catalog/oyun-konsollari-oyunlar',\n",
       " 'https://www.bakuelectronics.az/catalog/mebel',\n",
       " 'https://www.bakuelectronics.az/catalog/qab-qacaq-tava-qazan',\n",
       " 'https://www.bakuelectronics.az/catalog/avto-ve-moto-mehsullari',\n",
       " 'https://www.bakuelectronics.az/catalog/idman-ve-hobbi',\n",
       " 'https://www.bakuelectronics.az/catalog/ev-bag',\n",
       " 'https://www.bakuelectronics.az/catalog/usaq-alemi']"
      ]
     },
     "execution_count": 10,
     "metadata": {},
     "output_type": "execute_result"
    }
   ],
   "source": [
    "categories"
   ]
  },
  {
   "cell_type": "code",
   "execution_count": 11,
   "metadata": {},
   "outputs": [],
   "source": [
    "# Define the Component of URL\n",
    "\n",
    "base_url = \"https://www.bakuelectronics.az/catalog/\"\n",
    "num_pages = 1\n",
    "\n",
    "session = requests.Session()"
   ]
  },
  {
   "cell_type": "code",
   "execution_count": 13,
   "metadata": {},
   "outputs": [],
   "source": [
    "# Create lists to store the data\n",
    "product_categories = []\n",
    "product_titles = []\n",
    "product_prices = []"
   ]
  },
  {
   "cell_type": "code",
   "execution_count": 19,
   "metadata": {},
   "outputs": [
    {
     "name": "stdout",
     "output_type": "stream",
     "text": [
      "Fetching page: https://www.bakuelectronics.az/catalog/telefonlar-qadcetler?page=1\n",
      "sleep 3 seconds\n",
      "Fetching page: https://www.bakuelectronics.az/catalog/tv-audio-video?page=1\n",
      "sleep 3 seconds\n",
      "Fetching page: https://www.bakuelectronics.az/catalog/noutbuklar-komputerler?page=1\n",
      "sleep 3 seconds\n",
      "Fetching page: https://www.bakuelectronics.az/catalog/iqlim-texnikasi?page=1\n",
      "sleep 3 seconds\n",
      "Fetching page: https://www.bakuelectronics.az/catalog/boyuk-meiset-texnikasi?page=1\n",
      "sleep 3 seconds\n",
      "Fetching page: https://www.bakuelectronics.az/catalog/kicik-meiset-texnikasi?page=1\n",
      "sleep 3 seconds\n",
      "Fetching page: https://www.bakuelectronics.az/catalog/gozellik-saglamliq?page=1\n",
      "sleep 3 seconds\n",
      "Fetching page: https://www.bakuelectronics.az/catalog/oyun-konsollari-oyunlar?page=1\n",
      "sleep 3 seconds\n",
      "Fetching page: https://www.bakuelectronics.az/catalog/mebel?page=1\n",
      "sleep 3 seconds\n",
      "Fetching page: https://www.bakuelectronics.az/catalog/qab-qacaq-tava-qazan?page=1\n",
      "sleep 3 seconds\n",
      "Fetching page: https://www.bakuelectronics.az/catalog/avto-ve-moto-mehsullari?page=1\n",
      "sleep 3 seconds\n",
      "Fetching page: https://www.bakuelectronics.az/catalog/idman-ve-hobbi?page=1\n",
      "sleep 3 seconds\n",
      "Fetching page: https://www.bakuelectronics.az/catalog/ev-bag?page=1\n",
      "sleep 3 seconds\n",
      "Fetching page: https://www.bakuelectronics.az/catalog/usaq-alemi?page=1\n",
      "sleep 3 seconds\n"
     ]
    }
   ],
   "source": [
    "# Create a Scraping Loop\n",
    "\n",
    "### Format of URL: https://www.bakuelectronics.az/catalog/telefonlar-qadcetler/?page=2 ###\n",
    "\n",
    "for x in categories:\n",
    "    for page in range(1, num_pages+1, 1):\n",
    "        # url = f\"{base_url}{x}?page={page}\"\n",
    "        url = f\"{x}?page={page}\"\n",
    "\n",
    "        # Send a GET request to the URL\n",
    "        response = session.get(url)\n",
    "        print(f\"Fetching page: {url}\")\n",
    "\n",
    "        # Check if the request was successful\n",
    "        if response.status_code == 200:\n",
    "            \n",
    "            # Parse the HTML content using BeautifulSoup\n",
    "            soup = BeautifulSoup(response.content, \"html.parser\")\n",
    "            \n",
    "            # Loop through the product listings and extract the data\n",
    "            cols = soup.find_all('div', class_='flex__row--start js_pagination_container')\n",
    "            \n",
    "            # for row in rows:\n",
    "            #     cols = row.find_all('div', class_='flex__row--start js_pagination_container')\n",
    "                \n",
    "            for col in cols:\n",
    "                products = col.find_all('div', class_='product__card')\n",
    "    \n",
    "                for product in products:\n",
    "                    category = x\n",
    "                    title = product.find('a', class_ = 'product__title').get_text()\n",
    "                    price = product.find('div', class_='product__price--cur').text.strip()\n",
    "        \n",
    "                    product_categories.append(category)\n",
    "                    product_titles.append(title)\n",
    "                    product_prices.append(price)\n",
    "    \n",
    "        time.sleep(3)\n",
    "        print(\"sleep 3 seconds\")"
   ]
  },
  {
   "cell_type": "code",
   "execution_count": 15,
   "metadata": {},
   "outputs": [
    {
     "name": "stdout",
     "output_type": "stream",
     "text": [
      "Fetching page: https://www.bakuelectronics.az/catalog/telefonlar-qadcetler/smartfonlar-mobil-telefonlar/?page=1\n",
      "sleep 3 seconds\n",
      "Fetching page: https://www.bakuelectronics.az/catalog/telefonlar-qadcetler/smartfonlar-mobil-telefonlar/?page=2\n",
      "sleep 3 seconds\n",
      "Fetching page: https://www.bakuelectronics.az/catalog/telefonlar-qadcetler/smartfonlar-mobil-telefonlar/?page=3\n",
      "sleep 3 seconds\n",
      "Fetching page: https://www.bakuelectronics.az/catalog/telefonlar-qadcetler/smartfonlar-mobil-telefonlar/?page=4\n",
      "sleep 3 seconds\n",
      "Fetching page: https://www.bakuelectronics.az/catalog/telefonlar-qadcetler/smartfonlar-mobil-telefonlar/?page=5\n",
      "sleep 3 seconds\n",
      "Fetching page: https://www.bakuelectronics.az/catalog/telefonlar-qadcetler/smartfonlar-mobil-telefonlar/?page=6\n",
      "sleep 3 seconds\n",
      "Fetching page: https://www.bakuelectronics.az/catalog/telefonlar-qadcetler/smartfonlar-mobil-telefonlar/?page=7\n",
      "sleep 3 seconds\n",
      "Fetching page: https://www.bakuelectronics.az/catalog/telefonlar-qadcetler/smartfonlar-mobil-telefonlar/?page=8\n",
      "sleep 3 seconds\n",
      "Fetching page: https://www.bakuelectronics.az/catalog/telefonlar-qadcetler/smartfonlar-mobil-telefonlar/?page=9\n",
      "sleep 3 seconds\n",
      "Fetching page: https://www.bakuelectronics.az/catalog/telefonlar-qadcetler/smartfonlar-mobil-telefonlar/?page=10\n",
      "sleep 3 seconds\n",
      "Fetching page: https://www.bakuelectronics.az/catalog/telefonlar-qadcetler/smartfonlar-mobil-telefonlar/?page=11\n",
      "sleep 3 seconds\n",
      "Fetching page: https://www.bakuelectronics.az/catalog/telefonlar-qadcetler/smartfonlar-mobil-telefonlar/?page=12\n",
      "sleep 3 seconds\n",
      "Fetching page: https://www.bakuelectronics.az/catalog/telefonlar-qadcetler/smartfonlar-mobil-telefonlar/?page=13\n",
      "sleep 3 seconds\n",
      "Fetching page: https://www.bakuelectronics.az/catalog/telefonlar-qadcetler/smartfonlar-mobil-telefonlar/?page=14\n",
      "sleep 3 seconds\n",
      "Fetching page: https://www.bakuelectronics.az/catalog/telefonlar-qadcetler/smartfonlar-mobil-telefonlar/?page=15\n",
      "sleep 3 seconds\n",
      "Fetching page: https://www.bakuelectronics.az/catalog/telefonlar-qadcetler/smartfonlar-mobil-telefonlar/?page=16\n",
      "sleep 3 seconds\n",
      "Fetching page: https://www.bakuelectronics.az/catalog/telefonlar-qadcetler/smartfonlar-mobil-telefonlar/?page=17\n",
      "sleep 3 seconds\n",
      "Fetching page: https://www.bakuelectronics.az/catalog/telefonlar-qadcetler/smartfonlar-mobil-telefonlar/?page=18\n",
      "sleep 3 seconds\n",
      "Fetching page: https://www.bakuelectronics.az/catalog/telefonlar-qadcetler/smartfonlar-mobil-telefonlar/?page=19\n",
      "sleep 3 seconds\n",
      "Fetching page: https://www.bakuelectronics.az/catalog/telefonlar-qadcetler/smartfonlar-mobil-telefonlar/?page=20\n",
      "sleep 3 seconds\n",
      "Fetching page: https://www.bakuelectronics.az/catalog/telefonlar-qadcetler/smartfonlar-mobil-telefonlar/?page=21\n",
      "sleep 3 seconds\n",
      "Fetching page: https://www.bakuelectronics.az/catalog/telefonlar-qadcetler/smartfonlar-mobil-telefonlar/?page=22\n",
      "sleep 3 seconds\n",
      "Fetching page: https://www.bakuelectronics.az/catalog/telefonlar-qadcetler/smartfonlar-mobil-telefonlar/?page=23\n",
      "sleep 3 seconds\n",
      "Fetching page: https://www.bakuelectronics.az/catalog/telefonlar-qadcetler/smartfonlar-mobil-telefonlar/?page=24\n",
      "sleep 3 seconds\n",
      "Fetching page: https://www.bakuelectronics.az/catalog/telefonlar-qadcetler/smartfonlar-mobil-telefonlar/?page=25\n",
      "sleep 3 seconds\n",
      "Fetching page: https://www.bakuelectronics.az/catalog/telefonlar-qadcetler/smartfonlar-mobil-telefonlar/?page=26\n",
      "sleep 3 seconds\n",
      "Fetching page: https://www.bakuelectronics.az/catalog/telefonlar-qadcetler/smartfonlar-mobil-telefonlar/?page=27\n",
      "sleep 3 seconds\n"
     ]
    }
   ],
   "source": [
    "#only one category\n",
    "x = \"https://www.bakuelectronics.az/catalog/telefonlar-qadcetler/smartfonlar-mobil-telefonlar/\"\n",
    "for page in range(1, num_pages+1 , 1):\n",
    "        # url = f\"{base_url}{x}?page={page}\"\n",
    "        url = f\"{x}?page={page}\"\n",
    "\n",
    "        # Send a GET request to the URL\n",
    "        response = session.get(url)\n",
    "        print(f\"Fetching page: {url}\")\n",
    "\n",
    "        # Check if the request was successful\n",
    "        if response.status_code == 200:\n",
    "            \n",
    "            # Parse the HTML content using BeautifulSoup\n",
    "            soup = BeautifulSoup(response.content, \"html.parser\")\n",
    "            \n",
    "            # Loop through the product listings and extract the data\n",
    "            cols = soup.find_all('div', class_='flex__row--start js_pagination_container')\n",
    "            \n",
    "            # for row in rows:\n",
    "            #     cols = row.find_all('div', class_='flex__row--start js_pagination_container')\n",
    "                \n",
    "            for col in cols:\n",
    "                products = col.find_all('div', class_='product__card')\n",
    "    \n",
    "                for product in products:\n",
    "                    category = x\n",
    "                    title = product.find('a', class_ = 'product__title').get_text()\n",
    "                    price = product.find('div', class_='product__price--cur').text.strip()\n",
    "        \n",
    "                    product_categories.append(category)\n",
    "                    product_titles.append(title)\n",
    "                    product_prices.append(price)\n",
    "    \n",
    "        time.sleep(3)\n",
    "        print(\"sleep 3 seconds\")"
   ]
  },
  {
   "cell_type": "code",
   "execution_count": 20,
   "metadata": {},
   "outputs": [],
   "source": [
    "# Create a DataFrame from the lists and export\n",
    "#pandas\n",
    "baku = pd.DataFrame({\"Product Category\": product_categories,\n",
    "                     \"Product Name\": product_titles,\n",
    "                     \"Product Price\": product_prices})\n",
    "\n",
    "scraping_datetime = date.today()\n",
    "\n",
    "baku.to_excel(f\"D:/Nari/ESCAP2024_codding/Bangkok/baku.xlsx\", index = False)"
   ]
  },
  {
   "cell_type": "code",
   "execution_count": 23,
   "metadata": {},
   "outputs": [
    {
     "data": {
      "text/html": [
       "<div>\n",
       "<style scoped>\n",
       "    .dataframe tbody tr th:only-of-type {\n",
       "        vertical-align: middle;\n",
       "    }\n",
       "\n",
       "    .dataframe tbody tr th {\n",
       "        vertical-align: top;\n",
       "    }\n",
       "\n",
       "    .dataframe thead th {\n",
       "        text-align: right;\n",
       "    }\n",
       "</style>\n",
       "<table border=\"1\" class=\"dataframe\">\n",
       "  <thead>\n",
       "    <tr style=\"text-align: right;\">\n",
       "      <th></th>\n",
       "      <th>Product Category</th>\n",
       "      <th>Product Name</th>\n",
       "      <th>Product Price</th>\n",
       "    </tr>\n",
       "  </thead>\n",
       "  <tbody>\n",
       "    <tr>\n",
       "      <th>0</th>\n",
       "      <td>https://www.bakuelectronics.az/catalog/telefon...</td>\n",
       "      <td>TELEFON XIAOMI 14 ULTRA 16GB/512GB BLACK</td>\n",
       "      <td>2999,99</td>\n",
       "    </tr>\n",
       "    <tr>\n",
       "      <th>1</th>\n",
       "      <td>https://www.bakuelectronics.az/catalog/telefon...</td>\n",
       "      <td>Smartfon Samsung Galaxy S24 Ultra 12GB/256GB T...</td>\n",
       "      <td>2499,99</td>\n",
       "    </tr>\n",
       "    <tr>\n",
       "      <th>2</th>\n",
       "      <td>https://www.bakuelectronics.az/catalog/telefon...</td>\n",
       "      <td>TELEFON MOTOROLA RAZR 40 ULTRA 8/256GB INFINIT...</td>\n",
       "      <td>1799,99</td>\n",
       "    </tr>\n",
       "    <tr>\n",
       "      <th>3</th>\n",
       "      <td>https://www.bakuelectronics.az/catalog/telefon...</td>\n",
       "      <td>Smartfon Apple iPhone 15 PRO MAX 256GB BLUE TI...</td>\n",
       "      <td>3139,99</td>\n",
       "    </tr>\n",
       "    <tr>\n",
       "      <th>4</th>\n",
       "      <td>https://www.bakuelectronics.az/catalog/telefon...</td>\n",
       "      <td>TELEFON XIAOMI 14 ULTRA 16GB/512GB WHITE</td>\n",
       "      <td>2999,99</td>\n",
       "    </tr>\n",
       "    <tr>\n",
       "      <th>...</th>\n",
       "      <td>...</td>\n",
       "      <td>...</td>\n",
       "      <td>...</td>\n",
       "    </tr>\n",
       "    <tr>\n",
       "      <th>275</th>\n",
       "      <td>https://www.bakuelectronics.az/catalog/usaq-alemi</td>\n",
       "      <td>Uşaq daşıma çantası CHICCO SOFT JET BLACK</td>\n",
       "      <td>179.99</td>\n",
       "    </tr>\n",
       "    <tr>\n",
       "      <th>276</th>\n",
       "      <td>https://www.bakuelectronics.az/catalog/usaq-alemi</td>\n",
       "      <td>PHILIPS Fincan Balina 9ay+ 260ml</td>\n",
       "      <td>28.99</td>\n",
       "    </tr>\n",
       "    <tr>\n",
       "      <th>277</th>\n",
       "      <td>https://www.bakuelectronics.az/catalog/usaq-alemi</td>\n",
       "      <td>CHICCO Əmzik Saxlama Qutusu Boz</td>\n",
       "      <td>13.99</td>\n",
       "    </tr>\n",
       "    <tr>\n",
       "      <th>278</th>\n",
       "      <td>https://www.bakuelectronics.az/catalog/usaq-alemi</td>\n",
       "      <td>CHICCO Əmzik Saxlama Qutusu Mavi</td>\n",
       "      <td>13.99</td>\n",
       "    </tr>\n",
       "    <tr>\n",
       "      <th>279</th>\n",
       "      <td>https://www.bakuelectronics.az/catalog/usaq-alemi</td>\n",
       "      <td>Konstruktor MISSIONS WILD ANIMAL RESCUE M</td>\n",
       "      <td>79.99</td>\n",
       "    </tr>\n",
       "  </tbody>\n",
       "</table>\n",
       "<p>280 rows × 3 columns</p>\n",
       "</div>"
      ],
      "text/plain": [
       "                                      Product Category  \\\n",
       "0    https://www.bakuelectronics.az/catalog/telefon...   \n",
       "1    https://www.bakuelectronics.az/catalog/telefon...   \n",
       "2    https://www.bakuelectronics.az/catalog/telefon...   \n",
       "3    https://www.bakuelectronics.az/catalog/telefon...   \n",
       "4    https://www.bakuelectronics.az/catalog/telefon...   \n",
       "..                                                 ...   \n",
       "275  https://www.bakuelectronics.az/catalog/usaq-alemi   \n",
       "276  https://www.bakuelectronics.az/catalog/usaq-alemi   \n",
       "277  https://www.bakuelectronics.az/catalog/usaq-alemi   \n",
       "278  https://www.bakuelectronics.az/catalog/usaq-alemi   \n",
       "279  https://www.bakuelectronics.az/catalog/usaq-alemi   \n",
       "\n",
       "                                          Product Name Product Price  \n",
       "0             TELEFON XIAOMI 14 ULTRA 16GB/512GB BLACK       2999,99  \n",
       "1    Smartfon Samsung Galaxy S24 Ultra 12GB/256GB T...       2499,99  \n",
       "2    TELEFON MOTOROLA RAZR 40 ULTRA 8/256GB INFINIT...       1799,99  \n",
       "3    Smartfon Apple iPhone 15 PRO MAX 256GB BLUE TI...       3139,99  \n",
       "4             TELEFON XIAOMI 14 ULTRA 16GB/512GB WHITE       2999,99  \n",
       "..                                                 ...           ...  \n",
       "275          Uşaq daşıma çantası CHICCO SOFT JET BLACK        179.99  \n",
       "276                   PHILIPS Fincan Balina 9ay+ 260ml         28.99  \n",
       "277                    CHICCO Əmzik Saxlama Qutusu Boz         13.99  \n",
       "278                   CHICCO Əmzik Saxlama Qutusu Mavi         13.99  \n",
       "279          Konstruktor MISSIONS WILD ANIMAL RESCUE M         79.99  \n",
       "\n",
       "[280 rows x 3 columns]"
      ]
     },
     "execution_count": 23,
     "metadata": {},
     "output_type": "execute_result"
    }
   ],
   "source": [
    "baku"
   ]
  }
 ],
 "metadata": {
  "kernelspec": {
   "display_name": "Python 3",
   "language": "python",
   "name": "python3"
  },
  "language_info": {
   "codemirror_mode": {
    "name": "ipython",
    "version": 3
   },
   "file_extension": ".py",
   "mimetype": "text/x-python",
   "name": "python",
   "nbconvert_exporter": "python",
   "pygments_lexer": "ipython3",
   "version": "3.10.0"
  }
 },
 "nbformat": 4,
 "nbformat_minor": 2
}
